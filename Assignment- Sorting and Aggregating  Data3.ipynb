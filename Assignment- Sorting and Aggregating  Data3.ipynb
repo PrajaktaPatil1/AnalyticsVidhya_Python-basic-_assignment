{
 "cells": [
  {
   "attachments": {},
   "cell_type": "markdown",
   "metadata": {},
   "source": [
    "---\n",
    "---\n",
    "\n",
    "<center><h1>📍 📍 Assignment: Sorting and Aggregating Data 📍 📍</h1></center>\n",
    "\n",
    "---\n",
    "\n",
    "#### `READ THE DATASET`\n",
    "\n",
    "---"
   ]
  },
  {
   "cell_type": "code",
   "execution_count": 1,
   "metadata": {},
   "outputs": [],
   "source": [
    "import pandas as pd"
   ]
  },
  {
   "cell_type": "code",
   "execution_count": 2,
   "metadata": {},
   "outputs": [],
   "source": [
    "data = pd.read_csv('dataset/time_series.csv')"
   ]
  },
  {
   "cell_type": "code",
   "execution_count": 3,
   "metadata": {},
   "outputs": [
    {
     "data": {
      "text/html": [
       "<div>\n",
       "<style scoped>\n",
       "    .dataframe tbody tr th:only-of-type {\n",
       "        vertical-align: middle;\n",
       "    }\n",
       "\n",
       "    .dataframe tbody tr th {\n",
       "        vertical-align: top;\n",
       "    }\n",
       "\n",
       "    .dataframe thead th {\n",
       "        text-align: right;\n",
       "    }\n",
       "</style>\n",
       "<table border=\"1\" class=\"dataframe\">\n",
       "  <thead>\n",
       "    <tr style=\"text-align: right;\">\n",
       "      <th></th>\n",
       "      <th>ID</th>\n",
       "      <th>Datetime</th>\n",
       "      <th>Count</th>\n",
       "    </tr>\n",
       "  </thead>\n",
       "  <tbody>\n",
       "    <tr>\n",
       "      <th>0</th>\n",
       "      <td>0</td>\n",
       "      <td>25-08-2012 00:00</td>\n",
       "      <td>8</td>\n",
       "    </tr>\n",
       "    <tr>\n",
       "      <th>1</th>\n",
       "      <td>1</td>\n",
       "      <td>25-08-2012 01:00</td>\n",
       "      <td>2</td>\n",
       "    </tr>\n",
       "    <tr>\n",
       "      <th>2</th>\n",
       "      <td>2</td>\n",
       "      <td>25-08-2012 02:00</td>\n",
       "      <td>6</td>\n",
       "    </tr>\n",
       "    <tr>\n",
       "      <th>3</th>\n",
       "      <td>3</td>\n",
       "      <td>25-08-2012 03:00</td>\n",
       "      <td>2</td>\n",
       "    </tr>\n",
       "    <tr>\n",
       "      <th>4</th>\n",
       "      <td>4</td>\n",
       "      <td>25-08-2012 04:00</td>\n",
       "      <td>2</td>\n",
       "    </tr>\n",
       "  </tbody>\n",
       "</table>\n",
       "</div>"
      ],
      "text/plain": [
       "   ID          Datetime  Count\n",
       "0   0  25-08-2012 00:00      8\n",
       "1   1  25-08-2012 01:00      2\n",
       "2   2  25-08-2012 02:00      6\n",
       "3   3  25-08-2012 03:00      2\n",
       "4   4  25-08-2012 04:00      2"
      ]
     },
     "execution_count": 3,
     "metadata": {},
     "output_type": "execute_result"
    }
   ],
   "source": [
    "data.head()"
   ]
  },
  {
   "cell_type": "code",
   "execution_count": 4,
   "metadata": {},
   "outputs": [
    {
     "data": {
      "text/plain": [
       "ID           int64\n",
       "Datetime    object\n",
       "Count        int64\n",
       "dtype: object"
      ]
     },
     "execution_count": 4,
     "metadata": {},
     "output_type": "execute_result"
    }
   ],
   "source": [
    "data.dtypes"
   ]
  },
  {
   "attachments": {},
   "cell_type": "markdown",
   "metadata": {},
   "source": [
    "#### `Convert the Datetime column to pandas datetime object`\n",
    "\n",
    "---"
   ]
  },
  {
   "cell_type": "code",
   "execution_count": 18,
   "metadata": {},
   "outputs": [],
   "source": [
    "# WRITE YOUR CODE HERE\n",
    "import datetime\n",
    "data.Datetime=pd.to_datetime(data.Datetime)"
   ]
  },
  {
   "cell_type": "code",
   "execution_count": 20,
   "metadata": {},
   "outputs": [
    {
     "data": {
      "text/plain": [
       "ID                   int64\n",
       "Datetime    datetime64[ns]\n",
       "Count                int64\n",
       "dtype: object"
      ]
     },
     "execution_count": 20,
     "metadata": {},
     "output_type": "execute_result"
    }
   ],
   "source": [
    "data.dtypes"
   ]
  },
  {
   "attachments": {},
   "cell_type": "markdown",
   "metadata": {},
   "source": [
    "---\n",
    "\n",
    "####  `Create the following features using the Datetime feature`\n",
    "\n",
    "- day of month\n",
    "- month\n",
    "- day of year\n",
    "- hour\n",
    "\n",
    "---"
   ]
  },
  {
   "cell_type": "code",
   "execution_count": 23,
   "metadata": {},
   "outputs": [
    {
     "name": "stdout",
     "output_type": "stream",
     "text": [
      "   ID            Datetime  Count  DayOfMonth  Month  DayOfYear  Hour\n",
      "0   0 2012-08-25 00:00:00      8          25      8        238     0\n",
      "1   1 2012-08-25 01:00:00      2          25      8        238     1\n",
      "2   2 2012-08-25 02:00:00      6          25      8        238     2\n",
      "3   3 2012-08-25 03:00:00      2          25      8        238     3\n",
      "4   4 2012-08-25 04:00:00      2          25      8        238     4\n"
     ]
    }
   ],
   "source": [
    "# WRITE YOUR CODE HERE\n",
    "import pandas as pd\n",
    "\n",
    "# Create the DataFrame\n",
    "data = {\n",
    "    'ID': [0, 1, 2, 3, 4],\n",
    "    'Datetime': ['25-08-2012 00:00', '25-08-2012 01:00', '25-08-2012 02:00', '25-08-2012 03:00', '25-08-2012 04:00'],\n",
    "    'Count': [8, 2, 6, 2, 2]\n",
    "}\n",
    "df = pd.DataFrame(data)\n",
    "\n",
    "# Convert the \"Datetime\" column to pandas datetime object\n",
    "df['Datetime'] = pd.to_datetime(df['Datetime'], format='%d-%m-%Y %H:%M')\n",
    "\n",
    "# Create new features\n",
    "df['DayOfMonth'] = df['Datetime'].dt.day\n",
    "df['Month'] = df['Datetime'].dt.month\n",
    "df['DayOfYear'] = df['Datetime'].dt.dayofyear\n",
    "df['Hour'] = df['Datetime'].dt.hour\n",
    "\n",
    "# Display the DataFrame with new features\n",
    "print(df)\n"
   ]
  },
  {
   "cell_type": "code",
   "execution_count": 22,
   "metadata": {},
   "outputs": [
    {
     "name": "stdout",
     "output_type": "stream",
     "text": [
      "          ID            Datetime  Count  DayOfMonth  Month  DayOfYear  Hour\n",
      "0          0 2012-08-25 00:00:00      8          25      8        238     0\n",
      "1          1 2012-08-25 01:00:00      2          25      8        238     1\n",
      "2          2 2012-08-25 02:00:00      6          25      8        238     2\n",
      "3          3 2012-08-25 03:00:00      2          25      8        238     3\n",
      "4          4 2012-08-25 04:00:00      2          25      8        238     4\n",
      "...      ...                 ...    ...         ...    ...        ...   ...\n",
      "18283  18283 2014-09-25 19:00:00    868          25      9        268    19\n",
      "18284  18284 2014-09-25 20:00:00    732          25      9        268    20\n",
      "18285  18285 2014-09-25 21:00:00    702          25      9        268    21\n",
      "18286  18286 2014-09-25 22:00:00    580          25      9        268    22\n",
      "18287  18287 2014-09-25 23:00:00    534          25      9        268    23\n",
      "\n",
      "[18288 rows x 7 columns]\n"
     ]
    }
   ],
   "source": [
    "# Create new features \n",
    "df = pd.DataFrame(data)\n",
    "df['DayOfMonth'] = df['Datetime'].dt.day\n",
    "df['Month'] = df['Datetime'].dt.month\n",
    "df['DayOfYear'] = df['Datetime'].dt.dayofyear\n",
    "df['Hour'] = df['Datetime'].dt.hour\n",
    "\n",
    "# Display the DataFrame with new features\n",
    "print(df)"
   ]
  },
  {
   "attachments": {},
   "cell_type": "markdown",
   "metadata": {},
   "source": [
    "---\n",
    "\n",
    "#### `Consider the following dataframe`\n",
    "\n",
    "---"
   ]
  },
  {
   "cell_type": "code",
   "execution_count": 25,
   "metadata": {},
   "outputs": [
    {
     "data": {
      "text/html": [
       "<div>\n",
       "<style scoped>\n",
       "    .dataframe tbody tr th:only-of-type {\n",
       "        vertical-align: middle;\n",
       "    }\n",
       "\n",
       "    .dataframe tbody tr th {\n",
       "        vertical-align: top;\n",
       "    }\n",
       "\n",
       "    .dataframe thead th {\n",
       "        text-align: right;\n",
       "    }\n",
       "</style>\n",
       "<table border=\"1\" class=\"dataframe\">\n",
       "  <thead>\n",
       "    <tr style=\"text-align: right;\">\n",
       "      <th></th>\n",
       "      <th>id</th>\n",
       "      <th>name</th>\n",
       "      <th>marks</th>\n",
       "    </tr>\n",
       "  </thead>\n",
       "  <tbody>\n",
       "    <tr>\n",
       "      <th>0</th>\n",
       "      <td>1</td>\n",
       "      <td>Akash</td>\n",
       "      <td>22</td>\n",
       "    </tr>\n",
       "    <tr>\n",
       "      <th>1</th>\n",
       "      <td>2</td>\n",
       "      <td>Akansha</td>\n",
       "      <td>23</td>\n",
       "    </tr>\n",
       "    <tr>\n",
       "      <th>2</th>\n",
       "      <td>3</td>\n",
       "      <td>Naman</td>\n",
       "      <td>43</td>\n",
       "    </tr>\n",
       "    <tr>\n",
       "      <th>3</th>\n",
       "      <td>4</td>\n",
       "      <td>Pulkit</td>\n",
       "      <td>41</td>\n",
       "    </tr>\n",
       "    <tr>\n",
       "      <th>4</th>\n",
       "      <td>5</td>\n",
       "      <td>Anand</td>\n",
       "      <td>12</td>\n",
       "    </tr>\n",
       "  </tbody>\n",
       "</table>\n",
       "</div>"
      ],
      "text/plain": [
       "   id     name  marks\n",
       "0   1    Akash     22\n",
       "1   2  Akansha     23\n",
       "2   3    Naman     43\n",
       "3   4   Pulkit     41\n",
       "4   5    Anand     12"
      ]
     },
     "execution_count": 25,
     "metadata": {},
     "output_type": "execute_result"
    }
   ],
   "source": [
    "sample_df = pd.DataFrame({\n",
    "    'id'   :  [1, 2, 3, 4, 5],\n",
    "    'name' :  [ 'Akash', 'Akansha', 'Naman', 'Pulkit', 'Anand'],\n",
    "    'marks':  [ 22, 23, 43, 41, 12]\n",
    "})\n",
    "sample_df"
   ]
  },
  {
   "attachments": {},
   "cell_type": "markdown",
   "metadata": {},
   "source": [
    "#### Sort the  dataframe by `marks` column in descending order\n",
    "\n",
    "---"
   ]
  },
  {
   "cell_type": "code",
   "execution_count": 26,
   "metadata": {},
   "outputs": [
    {
     "name": "stdout",
     "output_type": "stream",
     "text": [
      "   id     name  marks\n",
      "2   3    Naman     43\n",
      "3   4   Pulkit     41\n",
      "1   2  Akansha     23\n",
      "0   1    Akash     22\n",
      "4   5    Anand     12\n"
     ]
    }
   ],
   "source": [
    "# WRITE YOUR CODE HERE\n",
    "sorted_df = sample_df.sort_values(by='marks', ascending=False)\n",
    "print(sorted_df)"
   ]
  },
  {
   "attachments": {},
   "cell_type": "markdown",
   "metadata": {},
   "source": [
    "#### Consider another dataframe city\n",
    "---"
   ]
  },
  {
   "cell_type": "code",
   "execution_count": 28,
   "metadata": {},
   "outputs": [
    {
     "data": {
      "text/html": [
       "<div>\n",
       "<style scoped>\n",
       "    .dataframe tbody tr th:only-of-type {\n",
       "        vertical-align: middle;\n",
       "    }\n",
       "\n",
       "    .dataframe tbody tr th {\n",
       "        vertical-align: top;\n",
       "    }\n",
       "\n",
       "    .dataframe thead th {\n",
       "        text-align: right;\n",
       "    }\n",
       "</style>\n",
       "<table border=\"1\" class=\"dataframe\">\n",
       "  <thead>\n",
       "    <tr style=\"text-align: right;\">\n",
       "      <th></th>\n",
       "      <th>name</th>\n",
       "      <th>city</th>\n",
       "    </tr>\n",
       "  </thead>\n",
       "  <tbody>\n",
       "    <tr>\n",
       "      <th>0</th>\n",
       "      <td>Akash</td>\n",
       "      <td>Delhi</td>\n",
       "    </tr>\n",
       "    <tr>\n",
       "      <th>1</th>\n",
       "      <td>Akansha</td>\n",
       "      <td>Gurugram</td>\n",
       "    </tr>\n",
       "    <tr>\n",
       "      <th>2</th>\n",
       "      <td>Pulkit</td>\n",
       "      <td>Gurugram</td>\n",
       "    </tr>\n",
       "    <tr>\n",
       "      <th>3</th>\n",
       "      <td>Anand</td>\n",
       "      <td>Delhi</td>\n",
       "    </tr>\n",
       "    <tr>\n",
       "      <th>4</th>\n",
       "      <td>Naman</td>\n",
       "      <td>Noida</td>\n",
       "    </tr>\n",
       "  </tbody>\n",
       "</table>\n",
       "</div>"
      ],
      "text/plain": [
       "      name      city\n",
       "0    Akash     Delhi\n",
       "1  Akansha  Gurugram\n",
       "2   Pulkit  Gurugram\n",
       "3    Anand     Delhi\n",
       "4    Naman     Noida"
      ]
     },
     "execution_count": 28,
     "metadata": {},
     "output_type": "execute_result"
    }
   ],
   "source": [
    "city = pd.DataFrame({\n",
    "    'name' : ['Akash', 'Akansha', 'Pulkit', 'Anand', 'Naman'],\n",
    "    'city' : ['Delhi', 'Gurugram', 'Gurugram', 'Delhi', 'Noida']\n",
    "})\n",
    "city"
   ]
  },
  {
   "attachments": {},
   "cell_type": "markdown",
   "metadata": {},
   "source": [
    "***Use the dataframe `sample_df` and `city` and find out the marks of students who live in Gurugram.***\n",
    "\n",
    "---"
   ]
  },
  {
   "cell_type": "code",
   "execution_count": 30,
   "metadata": {},
   "outputs": [
    {
     "name": "stdout",
     "output_type": "stream",
     "text": [
      "1    23\n",
      "3    41\n",
      "Name: marks, dtype: int64\n"
     ]
    }
   ],
   "source": [
    "### Write your code here\n",
    "merged_df = pd.merge(sample_df, city, on='name')\n",
    "\n",
    "# Filter the dataframe to include only students who live in Gurugram\n",
    "gurugram_students = merged_df[merged_df['city'] == 'Gurugram']\n",
    "\n",
    "# Get the marks of the students who live in Gurugram\n",
    "marks_gurugram_students = gurugram_students['marks']\n",
    "\n",
    "print(marks_gurugram_students)"
   ]
  },
  {
   "attachments": {},
   "cell_type": "markdown",
   "metadata": {},
   "source": [
    "#### `READ THE BIG MART SALES DATA`\n",
    "\n",
    "---"
   ]
  },
  {
   "cell_type": "code",
   "execution_count": 31,
   "metadata": {},
   "outputs": [],
   "source": [
    "big_mart_data = pd.read_csv('dataset/big_mart_sales.csv')"
   ]
  },
  {
   "cell_type": "code",
   "execution_count": 37,
   "metadata": {},
   "outputs": [
    {
     "data": {
      "text/html": [
       "<div>\n",
       "<style scoped>\n",
       "    .dataframe tbody tr th:only-of-type {\n",
       "        vertical-align: middle;\n",
       "    }\n",
       "\n",
       "    .dataframe tbody tr th {\n",
       "        vertical-align: top;\n",
       "    }\n",
       "\n",
       "    .dataframe thead th {\n",
       "        text-align: right;\n",
       "    }\n",
       "</style>\n",
       "<table border=\"1\" class=\"dataframe\">\n",
       "  <thead>\n",
       "    <tr style=\"text-align: right;\">\n",
       "      <th></th>\n",
       "      <th>Item_Identifier</th>\n",
       "      <th>Item_Weight</th>\n",
       "      <th>Item_Fat_Content</th>\n",
       "      <th>Item_Visibility</th>\n",
       "      <th>Item_Type</th>\n",
       "      <th>Item_MRP</th>\n",
       "      <th>Outlet_Identifier</th>\n",
       "      <th>Outlet_Establishment_Year</th>\n",
       "      <th>Outlet_Size</th>\n",
       "      <th>Outlet_Location_Type</th>\n",
       "      <th>Outlet_Type</th>\n",
       "      <th>Item_Outlet_Sales</th>\n",
       "    </tr>\n",
       "  </thead>\n",
       "  <tbody>\n",
       "    <tr>\n",
       "      <th>0</th>\n",
       "      <td>FDA15</td>\n",
       "      <td>9.30</td>\n",
       "      <td>Low Fat</td>\n",
       "      <td>0.016047</td>\n",
       "      <td>Dairy</td>\n",
       "      <td>249.8092</td>\n",
       "      <td>OUT049</td>\n",
       "      <td>1999</td>\n",
       "      <td>Medium</td>\n",
       "      <td>Tier 1</td>\n",
       "      <td>Supermarket Type1</td>\n",
       "      <td>3735.1380</td>\n",
       "    </tr>\n",
       "    <tr>\n",
       "      <th>1</th>\n",
       "      <td>DRC01</td>\n",
       "      <td>5.92</td>\n",
       "      <td>Regular</td>\n",
       "      <td>0.019278</td>\n",
       "      <td>Soft Drinks</td>\n",
       "      <td>48.2692</td>\n",
       "      <td>OUT018</td>\n",
       "      <td>2009</td>\n",
       "      <td>Medium</td>\n",
       "      <td>Tier 3</td>\n",
       "      <td>Supermarket Type2</td>\n",
       "      <td>443.4228</td>\n",
       "    </tr>\n",
       "    <tr>\n",
       "      <th>2</th>\n",
       "      <td>FDN15</td>\n",
       "      <td>17.50</td>\n",
       "      <td>Low Fat</td>\n",
       "      <td>0.016760</td>\n",
       "      <td>Meat</td>\n",
       "      <td>141.6180</td>\n",
       "      <td>OUT049</td>\n",
       "      <td>1999</td>\n",
       "      <td>Medium</td>\n",
       "      <td>Tier 1</td>\n",
       "      <td>Supermarket Type1</td>\n",
       "      <td>2097.2700</td>\n",
       "    </tr>\n",
       "    <tr>\n",
       "      <th>3</th>\n",
       "      <td>FDX07</td>\n",
       "      <td>19.20</td>\n",
       "      <td>Regular</td>\n",
       "      <td>0.000000</td>\n",
       "      <td>Fruits and Vegetables</td>\n",
       "      <td>182.0950</td>\n",
       "      <td>OUT010</td>\n",
       "      <td>1998</td>\n",
       "      <td>NaN</td>\n",
       "      <td>Tier 3</td>\n",
       "      <td>Grocery Store</td>\n",
       "      <td>732.3800</td>\n",
       "    </tr>\n",
       "    <tr>\n",
       "      <th>4</th>\n",
       "      <td>NCD19</td>\n",
       "      <td>8.93</td>\n",
       "      <td>Low Fat</td>\n",
       "      <td>0.000000</td>\n",
       "      <td>Household</td>\n",
       "      <td>53.8614</td>\n",
       "      <td>OUT013</td>\n",
       "      <td>1987</td>\n",
       "      <td>High</td>\n",
       "      <td>Tier 3</td>\n",
       "      <td>Supermarket Type1</td>\n",
       "      <td>994.7052</td>\n",
       "    </tr>\n",
       "  </tbody>\n",
       "</table>\n",
       "</div>"
      ],
      "text/plain": [
       "  Item_Identifier  Item_Weight Item_Fat_Content  Item_Visibility  \\\n",
       "0           FDA15         9.30          Low Fat         0.016047   \n",
       "1           DRC01         5.92          Regular         0.019278   \n",
       "2           FDN15        17.50          Low Fat         0.016760   \n",
       "3           FDX07        19.20          Regular         0.000000   \n",
       "4           NCD19         8.93          Low Fat         0.000000   \n",
       "\n",
       "               Item_Type  Item_MRP Outlet_Identifier  \\\n",
       "0                  Dairy  249.8092            OUT049   \n",
       "1            Soft Drinks   48.2692            OUT018   \n",
       "2                   Meat  141.6180            OUT049   \n",
       "3  Fruits and Vegetables  182.0950            OUT010   \n",
       "4              Household   53.8614            OUT013   \n",
       "\n",
       "   Outlet_Establishment_Year Outlet_Size Outlet_Location_Type  \\\n",
       "0                       1999      Medium               Tier 1   \n",
       "1                       2009      Medium               Tier 3   \n",
       "2                       1999      Medium               Tier 1   \n",
       "3                       1998         NaN               Tier 3   \n",
       "4                       1987        High               Tier 3   \n",
       "\n",
       "         Outlet_Type  Item_Outlet_Sales  \n",
       "0  Supermarket Type1          3735.1380  \n",
       "1  Supermarket Type2           443.4228  \n",
       "2  Supermarket Type1          2097.2700  \n",
       "3      Grocery Store           732.3800  \n",
       "4  Supermarket Type1           994.7052  "
      ]
     },
     "execution_count": 37,
     "metadata": {},
     "output_type": "execute_result"
    }
   ],
   "source": [
    "big_mart_data.head()"
   ]
  },
  {
   "attachments": {},
   "cell_type": "markdown",
   "metadata": {},
   "source": [
    "#### Find out the number of unique `Item_Type` in each of the `Outlet_Identifier`\n",
    "\n",
    "---"
   ]
  },
  {
   "cell_type": "code",
   "execution_count": 45,
   "metadata": {},
   "outputs": [],
   "source": [
    "# WRITE YOUR CODE HERE\n",
    "unique_item_types = big_mart_data.groupby('Outlet_Identifier')['Item_Type'].nunique()"
   ]
  },
  {
   "cell_type": "code",
   "execution_count": 46,
   "metadata": {},
   "outputs": [
    {
     "name": "stdout",
     "output_type": "stream",
     "text": [
      "Outlet_Identifier\n",
      "OUT010    16\n",
      "OUT013    16\n",
      "OUT017    16\n",
      "OUT018    16\n",
      "OUT019    16\n",
      "OUT027    16\n",
      "OUT035    16\n",
      "OUT045    16\n",
      "OUT046    16\n",
      "OUT049    16\n",
      "Name: Item_Type, dtype: int64\n"
     ]
    }
   ],
   "source": [
    "print(unique_item_types)"
   ]
  },
  {
   "attachments": {},
   "cell_type": "markdown",
   "metadata": {},
   "source": [
    "#### Find out the average `Item_Outlet_Sales` for each category of `Outlet_Size`\n",
    "\n",
    "---"
   ]
  },
  {
   "cell_type": "code",
   "execution_count": 48,
   "metadata": {},
   "outputs": [],
   "source": [
    "# WRITE YOUR CODE HERE\n",
    "average_sales_by_size = big_mart_data.groupby('Outlet_Size')['Item_Outlet_Sales'].mean()"
   ]
  },
  {
   "cell_type": "code",
   "execution_count": 49,
   "metadata": {},
   "outputs": [
    {
     "name": "stdout",
     "output_type": "stream",
     "text": [
      "Outlet_Size\n",
      "High      2298.995256\n",
      "Medium    2681.603542\n",
      "Small     1912.149161\n",
      "Name: Item_Outlet_Sales, dtype: float64\n"
     ]
    }
   ],
   "source": [
    "print(average_sales_by_size)"
   ]
  },
  {
   "attachments": {},
   "cell_type": "markdown",
   "metadata": {},
   "source": [
    "#### Select only the categorical variables from the dataframe and use `get_dummies` function to convert those into the numerical ones. \n",
    "\n",
    "---"
   ]
  },
  {
   "cell_type": "code",
   "execution_count": 50,
   "metadata": {},
   "outputs": [],
   "source": [
    "# WRITE YOUR CODE HERE\n",
    "categorical_vars = big_mart_data.select_dtypes(include=['object'])"
   ]
  },
  {
   "cell_type": "code",
   "execution_count": 51,
   "metadata": {},
   "outputs": [],
   "source": [
    "numerical_vars = pd.get_dummies(categorical_vars)"
   ]
  },
  {
   "cell_type": "code",
   "execution_count": 52,
   "metadata": {},
   "outputs": [],
   "source": [
    "data_with_dummies = pd.concat([big_mart_data, numerical_vars], axis=1)"
   ]
  },
  {
   "cell_type": "code",
   "execution_count": 53,
   "metadata": {},
   "outputs": [
    {
     "name": "stdout",
     "output_type": "stream",
     "text": [
      "  Item_Identifier  Item_Weight Item_Fat_Content  Item_Visibility  \\\n",
      "0           FDA15         9.30          Low Fat         0.016047   \n",
      "1           DRC01         5.92          Regular         0.019278   \n",
      "2           FDN15        17.50          Low Fat         0.016760   \n",
      "3           FDX07        19.20          Regular         0.000000   \n",
      "4           NCD19         8.93          Low Fat         0.000000   \n",
      "\n",
      "               Item_Type  Item_MRP Outlet_Identifier  \\\n",
      "0                  Dairy  249.8092            OUT049   \n",
      "1            Soft Drinks   48.2692            OUT018   \n",
      "2                   Meat  141.6180            OUT049   \n",
      "3  Fruits and Vegetables  182.0950            OUT010   \n",
      "4              Household   53.8614            OUT013   \n",
      "\n",
      "   Outlet_Establishment_Year Outlet_Size Outlet_Location_Type  ...  \\\n",
      "0                       1999      Medium               Tier 1  ...   \n",
      "1                       2009      Medium               Tier 3  ...   \n",
      "2                       1999      Medium               Tier 1  ...   \n",
      "3                       1998         NaN               Tier 3  ...   \n",
      "4                       1987        High               Tier 3  ...   \n",
      "\n",
      "  Outlet_Size_High  Outlet_Size_Medium  Outlet_Size_Small  \\\n",
      "0                0                   1                  0   \n",
      "1                0                   1                  0   \n",
      "2                0                   1                  0   \n",
      "3                0                   0                  0   \n",
      "4                1                   0                  0   \n",
      "\n",
      "   Outlet_Location_Type_Tier 1  Outlet_Location_Type_Tier 2  \\\n",
      "0                            1                            0   \n",
      "1                            0                            0   \n",
      "2                            1                            0   \n",
      "3                            0                            0   \n",
      "4                            0                            0   \n",
      "\n",
      "   Outlet_Location_Type_Tier 3  Outlet_Type_Grocery Store  \\\n",
      "0                            0                          0   \n",
      "1                            1                          0   \n",
      "2                            0                          0   \n",
      "3                            1                          1   \n",
      "4                            1                          0   \n",
      "\n",
      "   Outlet_Type_Supermarket Type1  Outlet_Type_Supermarket Type2  \\\n",
      "0                              1                              0   \n",
      "1                              0                              1   \n",
      "2                              1                              0   \n",
      "3                              0                              0   \n",
      "4                              1                              0   \n",
      "\n",
      "   Outlet_Type_Supermarket Type3  \n",
      "0                              0  \n",
      "1                              0  \n",
      "2                              0  \n",
      "3                              0  \n",
      "4                              0  \n",
      "\n",
      "[5 rows x 1612 columns]\n"
     ]
    }
   ],
   "source": [
    "print(data_with_dummies.head())"
   ]
  }
 ],
 "metadata": {
  "kernelspec": {
   "display_name": "Python 3",
   "language": "python",
   "name": "python3"
  },
  "language_info": {
   "codemirror_mode": {
    "name": "ipython",
    "version": 3
   },
   "file_extension": ".py",
   "mimetype": "text/x-python",
   "name": "python",
   "nbconvert_exporter": "python",
   "pygments_lexer": "ipython3",
   "version": "3.10.9"
  }
 },
 "nbformat": 4,
 "nbformat_minor": 2
}
