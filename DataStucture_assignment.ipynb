{
 "cells": [
  {
   "cell_type": "code",
   "execution_count": 1,
   "id": "71ee4bd1",
   "metadata": {},
   "outputs": [],
   "source": [
    "student_marks =[['Name' ,['A','B','C','D','E','F']],\n",
    "                ['Ankit' ,[41,34,45,55,63]],\n",
    "                ['Aravind' , [42,23,34,44,53]],\n",
    "                ['Lakshya' ,[32,23,13,54,67]],\n",
    "                ['Gyan' ,[23,82,23,63,34]],\n",
    "                ['Pranav',[21,23,25,56,56]]]\n",
    "\n"
   ]
  },
  {
   "cell_type": "code",
   "execution_count": 2,
   "id": "dc95cded",
   "metadata": {},
   "outputs": [
    {
     "name": "stdout",
     "output_type": "stream",
     "text": [
      "['Name', ['A', 'B', 'C', 'D', 'E', 'F']]\n"
     ]
    }
   ],
   "source": [
    "print(student_marks[0])"
   ]
  },
  {
   "cell_type": "code",
   "execution_count": 3,
   "id": "c1c62504",
   "metadata": {},
   "outputs": [
    {
     "name": "stdout",
     "output_type": "stream",
     "text": [
      "34\n"
     ]
    }
   ],
   "source": [
    "print(student_marks[1][1][1])"
   ]
  },
  {
   "cell_type": "code",
   "execution_count": 4,
   "id": "c00c1522",
   "metadata": {},
   "outputs": [],
   "source": [
    "# Find the index of subject B\n",
    "subject_b_index = student_marks[0][1].index('B')"
   ]
  },
  {
   "cell_type": "code",
   "execution_count": 5,
   "id": "e4826138",
   "metadata": {},
   "outputs": [
    {
     "data": {
      "text/plain": [
       "1"
      ]
     },
     "execution_count": 5,
     "metadata": {},
     "output_type": "execute_result"
    }
   ],
   "source": [
    "subject_b_index"
   ]
  },
  {
   "cell_type": "markdown",
   "id": "21ac4812",
   "metadata": {},
   "source": [
    "# Find the highest marks in subject B"
   ]
  },
  {
   "cell_type": "code",
   "execution_count": 6,
   "id": "a33144dc",
   "metadata": {},
   "outputs": [
    {
     "name": "stdout",
     "output_type": "stream",
     "text": [
      "Ankit 34\n",
      "Aravind 23\n",
      "Lakshya 23\n",
      "Gyan 82\n",
      "Pranav 23\n"
     ]
    }
   ],
   "source": [
    "student_with_marks_in_B =[]\n",
    "\n",
    "for student in student_marks[1:]:\n",
    "    name = student[0]\n",
    "    student_marks_B=student[1][1]\n",
    "    print(name,student_marks_B)\n",
    "    student_with_marks_in_B.append([student_marks_B,name])"
   ]
  },
  {
   "cell_type": "code",
   "execution_count": 7,
   "id": "931e7689",
   "metadata": {},
   "outputs": [
    {
     "data": {
      "text/plain": [
       "[[34, 'Ankit'], [23, 'Aravind'], [23, 'Lakshya'], [82, 'Gyan'], [23, 'Pranav']]"
      ]
     },
     "execution_count": 7,
     "metadata": {},
     "output_type": "execute_result"
    }
   ],
   "source": [
    "student_with_marks_in_B "
   ]
  },
  {
   "cell_type": "code",
   "execution_count": 8,
   "id": "f0a66a22",
   "metadata": {},
   "outputs": [
    {
     "data": {
      "text/plain": [
       "[[23, 'Aravind'], [23, 'Lakshya'], [23, 'Pranav'], [34, 'Ankit'], [82, 'Gyan']]"
      ]
     },
     "execution_count": 8,
     "metadata": {},
     "output_type": "execute_result"
    }
   ],
   "source": [
    "sorted(student_with_marks_in_B)"
   ]
  },
  {
   "cell_type": "code",
   "execution_count": 9,
   "id": "71959dd0",
   "metadata": {},
   "outputs": [
    {
     "data": {
      "text/plain": [
       "82"
      ]
     },
     "execution_count": 9,
     "metadata": {},
     "output_type": "execute_result"
    }
   ],
   "source": [
    "sorted(student_with_marks_in_B)[-1][0]"
   ]
  },
  {
   "cell_type": "markdown",
   "id": "59b0d5b0",
   "metadata": {},
   "source": [
    "# Find the average marks in subject C"
   ]
  },
  {
   "cell_type": "code",
   "execution_count": 19,
   "id": "2522d4de",
   "metadata": {},
   "outputs": [],
   "source": [
    "marks_C=[]\n",
    "for student in student_marks[1:]:\n",
    "    name = student[0]\n",
    "    student_marks_C=student[1][2]\n",
    "    marks_C.append(student_marks_C)\n",
    "    average_marks_in_C = sum(marks_C) / len(marks_C)\n",
    "    "
   ]
  },
  {
   "cell_type": "code",
   "execution_count": 20,
   "id": "b2e2a128",
   "metadata": {},
   "outputs": [],
   "source": [
    "marks_C.append(student_marks_C)\n",
    "\n",
    "\n"
   ]
  },
  {
   "cell_type": "code",
   "execution_count": 21,
   "id": "fb82c241",
   "metadata": {},
   "outputs": [],
   "source": [
    "average_marks_in_C = sum(marks_C) / len(marks_C)"
   ]
  },
  {
   "cell_type": "code",
   "execution_count": 22,
   "id": "8d77a66d",
   "metadata": {},
   "outputs": [
    {
     "data": {
      "text/plain": [
       "27.5"
      ]
     },
     "execution_count": 22,
     "metadata": {},
     "output_type": "execute_result"
    }
   ],
   "source": [
    "average_marks_in_C"
   ]
  },
  {
   "cell_type": "code",
   "execution_count": null,
   "id": "4c5852cf",
   "metadata": {},
   "outputs": [],
   "source": []
  },
  {
   "cell_type": "markdown",
   "id": "3a2edb88",
   "metadata": {},
   "source": [
    "# Find the student who scored the highest percentage of marks"
   ]
  },
  {
   "cell_type": "code",
   "execution_count": 14,
   "id": "61350d95",
   "metadata": {},
   "outputs": [
    {
     "name": "stdout",
     "output_type": "stream",
     "text": [
      "The student who scored the highest percentage of marks is Ankit with 47.599999999999994%.\n"
     ]
    }
   ],
   "source": [
    "highest_percentage = 0\n",
    "student_highest_percentage = \"\"\n",
    "for student in student_marks[1:]:\n",
    "    marks = student[1]\n",
    "    total_marks = sum(marks)\n",
    "    percentage = (total_marks / 500) * 100\n",
    "    if percentage > highest_percentage:\n",
    "        highest_percentage = percentage\n",
    "        student_highest_percentage = student[0]\n",
    "print(f\"The student who scored the highest percentage of marks is {student_highest_percentage} with {highest_percentage}%.\")"
   ]
  },
  {
   "cell_type": "code",
   "execution_count": null,
   "id": "d7ca75a3",
   "metadata": {},
   "outputs": [],
   "source": []
  },
  {
   "cell_type": "markdown",
   "id": "4ba88eb1",
   "metadata": {},
   "source": [
    "# Find the student who scored the highest percentage in top-4 subjects"
   ]
  },
  {
   "cell_type": "code",
   "execution_count": 15,
   "id": "4733b692",
   "metadata": {},
   "outputs": [
    {
     "name": "stdout",
     "output_type": "stream",
     "text": [
      "The student who scored the highest percentage of marks in top-4 subjects is Ankit with 51.0%.\n"
     ]
    }
   ],
   "source": [
    "highest_percentage_top_4 = 0\n",
    "student_highest_percentage_top_4 = \"\"\n",
    "for student in student_marks[1:]:\n",
    "    marks = sorted(student[1], reverse=True)[:4]\n",
    "    total_marks_top_4 = sum(marks)\n",
    "    percentage_top_4 = (total_marks_top_4 / 400) * 100\n",
    "    if percentage_top_4 > highest_percentage_top_4:\n",
    "        highest_percentage_top_4 = percentage_top_4\n",
    "        student_highest_percentage_top_4 = student[0]\n",
    "print(f\"The student who scored the highest percentage of marks in top-4 subjects is {student_highest_percentage_top_4} with {highest_percentage_top_4}%.\")"
   ]
  },
  {
   "cell_type": "code",
   "execution_count": null,
   "id": "54abb407",
   "metadata": {},
   "outputs": [],
   "source": []
  }
 ],
 "metadata": {
  "kernelspec": {
   "display_name": "Python 3 (ipykernel)",
   "language": "python",
   "name": "python3"
  },
  "language_info": {
   "codemirror_mode": {
    "name": "ipython",
    "version": 3
   },
   "file_extension": ".py",
   "mimetype": "text/x-python",
   "name": "python",
   "nbconvert_exporter": "python",
   "pygments_lexer": "ipython3",
   "version": "3.10.9"
  }
 },
 "nbformat": 4,
 "nbformat_minor": 5
}
