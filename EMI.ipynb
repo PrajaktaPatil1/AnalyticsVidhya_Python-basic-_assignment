{
 "cells": [
  {
   "cell_type": "code",
   "execution_count": 1,
   "id": "3c4097e1",
   "metadata": {},
   "outputs": [
    {
     "name": "stdout",
     "output_type": "stream",
     "text": [
      "The EMI to be paid is: 47782.60\n"
     ]
    }
   ],
   "source": [
    "principal_amount = 5000000  # 50 Lakhs\n",
    "interest_rate = 8  # 8%\n",
    "loan_tenure = 15  # 15 years\n",
    "\n",
    "# Converting interest rate to monthly interest rate and tenure to months\n",
    "monthly_interest_rate = interest_rate / (12 * 100)\n",
    "loan_tenure_months = loan_tenure * 12\n",
    "\n",
    "# Calculating EMI using the formula\n",
    "emi = (principal_amount * monthly_interest_rate * pow(1 + monthly_interest_rate, loan_tenure_months)) / (pow(1 + monthly_interest_rate, loan_tenure_months) - 1)\n",
    "\n",
    "print(\"The EMI to be paid is: {:.2f}\".format(emi))\n"
   ]
  },
  {
   "cell_type": "code",
   "execution_count": 2,
   "id": "bd8b5252",
   "metadata": {},
   "outputs": [
    {
     "name": "stdout",
     "output_type": "stream",
     "text": [
      "The maximum loan amount you can afford is: 2791723.16\n"
     ]
    }
   ],
   "source": [
    "emi_limit = 30000  # Maximum EMI you can afford\n",
    "interest_rate = 10  # 10%\n",
    "loan_tenure = 15  # 15 years\n",
    "\n",
    "# Converting interest rate to monthly interest rate and tenure to months\n",
    "monthly_interest_rate = interest_rate / (12 * 100)\n",
    "loan_tenure_months = loan_tenure * 12\n",
    "\n",
    "# Calculating the maximum loan amount using the reverse calculation of the EMI formula\n",
    "loan_amount = (emi_limit * (pow(1 + monthly_interest_rate, loan_tenure_months) - 1)) / (monthly_interest_rate * pow(1 + monthly_interest_rate, loan_tenure_months))\n",
    "\n",
    "print(\"The maximum loan amount you can afford is: {:.2f}\".format(loan_amount))"
   ]
  },
  {
   "cell_type": "code",
   "execution_count": 3,
   "id": "003fd1bb",
   "metadata": {},
   "outputs": [
    {
     "name": "stdout",
     "output_type": "stream",
     "text": [
      "Year 1: Total Interest Paid: 393498.90\n",
      "Year 2: Total Interest Paid: 378567.92\n",
      "Year 3: Total Interest Paid: 362397.68\n",
      "Year 4: Total Interest Paid: 344885.32\n",
      "Year 5: Total Interest Paid: 325919.44\n",
      "Year 6: Total Interest Paid: 305379.40\n",
      "Year 7: Total Interest Paid: 283134.55\n",
      "Year 8: Total Interest Paid: 259043.39\n",
      "Year 9: Total Interest Paid: 232952.67\n",
      "Year 10: Total Interest Paid: 204696.43\n",
      "Year 11: Total Interest Paid: 174094.94\n",
      "Year 12: Total Interest Paid: 140953.55\n",
      "Year 13: Total Interest Paid: 105061.43\n",
      "Year 14: Total Interest Paid: 66190.29\n",
      "Year 15: Total Interest Paid: 24092.86\n",
      "Total Cumulative Interest Paid in 15 years: 3600868.76\n"
     ]
    }
   ],
   "source": [
    "principal_amount = 5000000  # 50 Lakhs\n",
    "interest_rate = 8  # 8%\n",
    "loan_tenure = 15  # 15 years\n",
    "\n",
    "# Converting interest rate to monthly interest rate and tenure to months\n",
    "monthly_interest_rate = interest_rate / (12 * 100)\n",
    "loan_tenure_months = loan_tenure * 12\n",
    "\n",
    "emi_list = []  # List to store EMIs for each year\n",
    "interest_paid_list = []  # List to store total interest paid for each year\n",
    "\n",
    "# Calculating EMI and total interest paid year-wise\n",
    "remaining_principal = principal_amount\n",
    "for year in range(1, loan_tenure + 1):\n",
    "    interest_paid_year = 0\n",
    "    emi_year = 0\n",
    "\n",
    "    for month in range(12):\n",
    "        interest_paid = remaining_principal * monthly_interest_rate\n",
    "        principal_paid = emi - interest_paid\n",
    "        remaining_principal -= principal_paid\n",
    "        interest_paid_year += interest_paid\n",
    "        emi_year += emi\n",
    "\n",
    "    emi_list.append(emi_year)\n",
    "    interest_paid_list.append(interest_paid_year)\n",
    "\n",
    "# Calculating total cumulative interest paid over 15 years\n",
    "cumulative_interest_paid = sum(interest_paid_list)\n",
    "\n",
    "# Displaying year-wise interest paid and cumulative interest paid\n",
    "for year in range(1, loan_tenure + 1):\n",
    "    print(\"Year {}: Total Interest Paid: {:.2f}\".format(year, interest_paid_list[year - 1]))\n",
    "\n",
    "print(\"Total Cumulative Interest Paid in 15 years: {:.2f}\".format(cumulative_interest_paid))"
   ]
  },
  {
   "cell_type": "code",
   "execution_count": 4,
   "id": "5e55c6e0",
   "metadata": {},
   "outputs": [
    {
     "name": "stdout",
     "output_type": "stream",
     "text": [
      "Number of months required to pay at least 50% of the principal amount: 116\n"
     ]
    }
   ],
   "source": [
    "principal_amount = 5000000  # 50 Lakhs\n",
    "interest_rate = 8  # 8%\n",
    "loan_tenure = 15  # 15 years\n",
    "\n",
    "# Converting interest rate to monthly interest rate and tenure to months\n",
    "monthly_interest_rate = interest_rate / (12 * 100)\n",
    "loan_tenure_months = loan_tenure * 12\n",
    "\n",
    "emi_list = []  # List to store EMIs for each month\n",
    "principal_paid_list = []  # List to store principal paid for each month\n",
    "\n",
    "remaining_principal = principal_amount\n",
    "months = 0\n",
    "\n",
    "# Calculate EMI and principal paid for each month until at least 50% of principal is paid\n",
    "while remaining_principal >= (principal_amount * 0.5):\n",
    "    interest_paid = remaining_principal * monthly_interest_rate\n",
    "    principal_paid = emi - interest_paid\n",
    "    remaining_principal -= principal_paid\n",
    "    months += 1\n",
    "    emi_list.append(emi)\n",
    "    principal_paid_list.append(principal_paid)\n",
    "\n",
    "print(\"Number of months required to pay at least 50% of the principal amount: {}\".format(months))"
   ]
  },
  {
   "cell_type": "code",
   "execution_count": null,
   "id": "dc0d6686",
   "metadata": {},
   "outputs": [],
   "source": []
  }
 ],
 "metadata": {
  "kernelspec": {
   "display_name": "Python 3 (ipykernel)",
   "language": "python",
   "name": "python3"
  },
  "language_info": {
   "codemirror_mode": {
    "name": "ipython",
    "version": 3
   },
   "file_extension": ".py",
   "mimetype": "text/x-python",
   "name": "python",
   "nbconvert_exporter": "python",
   "pygments_lexer": "ipython3",
   "version": "3.10.9"
  }
 },
 "nbformat": 4,
 "nbformat_minor": 5
}
